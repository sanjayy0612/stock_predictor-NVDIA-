{
  "nbformat": 4,
  "nbformat_minor": 0,
  "metadata": {
    "colab": {
      "provenance": [],
      "authorship_tag": "ABX9TyN1z0/aWPtTjJkDEfmJm/4s",
      "include_colab_link": true
    },
    "kernelspec": {
      "name": "python3",
      "display_name": "Python 3"
    },
    "language_info": {
      "name": "python"
    }
  },
  "cells": [
    {
      "cell_type": "markdown",
      "metadata": {
        "id": "view-in-github",
        "colab_type": "text"
      },
      "source": [
        "<a href=\"https://colab.research.google.com/github/sanjayy0612/stock_predictor-NVDIA-/blob/main/NVDIA_STOCK_PREDICTOR.ipynb\" target=\"_parent\"><img src=\"https://colab.research.google.com/assets/colab-badge.svg\" alt=\"Open In Colab\"/></a>"
      ]
    },
    {
      "cell_type": "code",
      "execution_count": 1,
      "metadata": {
        "colab": {
          "base_uri": "https://localhost:8080/"
        },
        "id": "QBL14Ey-toA2",
        "outputId": "36c77aa5-589a-4721-b36d-d6887c592934"
      },
      "outputs": [
        {
          "output_type": "stream",
          "name": "stdout",
          "text": [
            "Requirement already satisfied: yfinance in /usr/local/lib/python3.12/dist-packages (0.2.65)\n",
            "Requirement already satisfied: pandas>=1.3.0 in /usr/local/lib/python3.12/dist-packages (from yfinance) (2.2.2)\n",
            "Requirement already satisfied: numpy>=1.16.5 in /usr/local/lib/python3.12/dist-packages (from yfinance) (2.0.2)\n",
            "Requirement already satisfied: requests>=2.31 in /usr/local/lib/python3.12/dist-packages (from yfinance) (2.32.4)\n",
            "Requirement already satisfied: multitasking>=0.0.7 in /usr/local/lib/python3.12/dist-packages (from yfinance) (0.0.12)\n",
            "Requirement already satisfied: platformdirs>=2.0.0 in /usr/local/lib/python3.12/dist-packages (from yfinance) (4.3.8)\n",
            "Requirement already satisfied: pytz>=2022.5 in /usr/local/lib/python3.12/dist-packages (from yfinance) (2025.2)\n",
            "Requirement already satisfied: frozendict>=2.3.4 in /usr/local/lib/python3.12/dist-packages (from yfinance) (2.4.6)\n",
            "Requirement already satisfied: peewee>=3.16.2 in /usr/local/lib/python3.12/dist-packages (from yfinance) (3.18.2)\n",
            "Requirement already satisfied: beautifulsoup4>=4.11.1 in /usr/local/lib/python3.12/dist-packages (from yfinance) (4.13.4)\n",
            "Requirement already satisfied: curl_cffi>=0.7 in /usr/local/lib/python3.12/dist-packages (from yfinance) (0.13.0)\n",
            "Requirement already satisfied: protobuf>=3.19.0 in /usr/local/lib/python3.12/dist-packages (from yfinance) (5.29.5)\n",
            "Requirement already satisfied: websockets>=13.0 in /usr/local/lib/python3.12/dist-packages (from yfinance) (15.0.1)\n",
            "Requirement already satisfied: soupsieve>1.2 in /usr/local/lib/python3.12/dist-packages (from beautifulsoup4>=4.11.1->yfinance) (2.7)\n",
            "Requirement already satisfied: typing-extensions>=4.0.0 in /usr/local/lib/python3.12/dist-packages (from beautifulsoup4>=4.11.1->yfinance) (4.14.1)\n",
            "Requirement already satisfied: cffi>=1.12.0 in /usr/local/lib/python3.12/dist-packages (from curl_cffi>=0.7->yfinance) (1.17.1)\n",
            "Requirement already satisfied: certifi>=2024.2.2 in /usr/local/lib/python3.12/dist-packages (from curl_cffi>=0.7->yfinance) (2025.8.3)\n",
            "Requirement already satisfied: python-dateutil>=2.8.2 in /usr/local/lib/python3.12/dist-packages (from pandas>=1.3.0->yfinance) (2.9.0.post0)\n",
            "Requirement already satisfied: tzdata>=2022.7 in /usr/local/lib/python3.12/dist-packages (from pandas>=1.3.0->yfinance) (2025.2)\n",
            "Requirement already satisfied: charset_normalizer<4,>=2 in /usr/local/lib/python3.12/dist-packages (from requests>=2.31->yfinance) (3.4.3)\n",
            "Requirement already satisfied: idna<4,>=2.5 in /usr/local/lib/python3.12/dist-packages (from requests>=2.31->yfinance) (3.10)\n",
            "Requirement already satisfied: urllib3<3,>=1.21.1 in /usr/local/lib/python3.12/dist-packages (from requests>=2.31->yfinance) (2.5.0)\n",
            "Requirement already satisfied: pycparser in /usr/local/lib/python3.12/dist-packages (from cffi>=1.12.0->curl_cffi>=0.7->yfinance) (2.22)\n",
            "Requirement already satisfied: six>=1.5 in /usr/local/lib/python3.12/dist-packages (from python-dateutil>=2.8.2->pandas>=1.3.0->yfinance) (1.17.0)\n"
          ]
        }
      ],
      "source": [
        "!pip install yfinance\n"
      ]
    },
    {
      "cell_type": "code",
      "source": [
        "import yfinance as yf\n",
        "import pandas as pd\n",
        "\n",
        "\n",
        "nvda = yf.download(\"NVDA\", start=\"2022-01-01\", end=\"2025-07-18\", interval='1d')"
      ],
      "metadata": {
        "colab": {
          "base_uri": "https://localhost:8080/"
        },
        "id": "ESecY8HHHoG3",
        "outputId": "76b792dd-4088-4aba-db25-cb93e5335037"
      },
      "execution_count": 11,
      "outputs": [
        {
          "output_type": "stream",
          "name": "stderr",
          "text": [
            "/tmp/ipython-input-639385813.py:5: FutureWarning: YF.download() has changed argument auto_adjust default to True\n",
            "  nvda = yf.download(\"NVDA\", start=\"2022-01-01\", end=\"2025-07-18\", interval='1d')\n",
            "\r[*********************100%***********************]  1 of 1 completed\n"
          ]
        }
      ]
    },
    {
      "cell_type": "code",
      "source": [
        "\n",
        "if isinstance(nvda.columns, pd.MultiIndex):\n",
        "    nvda.columns = [col[0] for col in nvda.columns]\n",
        "\n",
        "nvda[\"Return\"] = nvda[\"Close\"].pct_change()\n",
        "nvda[\"MA10\"] = nvda[\"Close\"].rolling(window=10).mean()\n",
        "nvda[\"MA50\"] = nvda[\"Close\"].rolling(window=50).mean()\n",
        "nvda[\"Volatility\"] = nvda[\"Return\"].rolling(window=10).std()\n",
        "nvda = nvda.dropna()\n",
        "print(nvda.head(15))\n",
        "print(\"\\nAvailable columns:\", nvda.columns)\n"
      ],
      "metadata": {
        "colab": {
          "base_uri": "https://localhost:8080/"
        },
        "id": "VBRAW5CAMxSU",
        "outputId": "f21e2ca8-8ab9-48d5-93a8-1d7ebdcb76d9"
      },
      "execution_count": 13,
      "outputs": [
        {
          "output_type": "stream",
          "name": "stdout",
          "text": [
            "                Close       High        Low       Open     Volume    Return  \\\n",
            "Date                                                                          \n",
            "2022-03-15  22.935061  22.999954  21.286788  21.482463  491996000  0.077028   \n",
            "2022-03-16  24.455547  24.556380  23.133734  23.461192  671422000  0.066295   \n",
            "2022-03-17  24.725100  24.800972  23.866519  24.080167  471941000  0.011022   \n",
            "2022-03-18  26.409309  26.525119  24.583332  24.758042  730719000  0.068117   \n",
            "2022-03-21  26.689852  27.107163  25.924118  26.463227  591727000  0.010623   \n",
            "2022-03-22  26.480196  27.193018  26.028943  26.682860  547007000 -0.007855   \n",
            "2022-03-23  25.591669  26.568053  25.532766  26.082855  502120000 -0.033554   \n",
            "2022-03-24  28.103512  28.273231  25.864216  26.122789  877379000  0.098151   \n",
            "2022-03-25  27.646269  28.311169  27.225965  27.839949  579016000 -0.016270   \n",
            "2022-03-28  28.172398  28.203347  27.161070  27.710163  425494000  0.019031   \n",
            "2022-03-29  28.608677  28.898197  27.933793  28.647612  488984000  0.015486   \n",
            "2022-03-30  27.644272  28.448941  27.457580  28.257258  463487000 -0.033710   \n",
            "2022-03-31  27.240938  28.201349  27.224966  27.736119  523440000 -0.014590   \n",
            "2022-04-01  26.667889  27.450594  26.223624  27.329794  517235000 -0.021036   \n",
            "2022-04-04  27.314817  27.512490  26.569051  26.683861  397120000  0.024259   \n",
            "\n",
            "                 MA10       MA50  Volatility  \n",
            "Date                                          \n",
            "2022-03-15  22.543810  24.608723    0.047368  \n",
            "2022-03-16  22.571364  24.496511    0.051139  \n",
            "2022-03-17  22.676390  24.406280    0.050523  \n",
            "2022-03-18  23.027508  24.383392    0.052080  \n",
            "2022-03-21  23.564820  24.354655    0.042995  \n",
            "2022-03-22  24.064992  24.340312    0.043900  \n",
            "2022-03-23  24.326560  24.305144    0.043573  \n",
            "2022-03-24  24.874853  24.311887    0.050042  \n",
            "2022-03-25  25.433129  24.305853    0.049221  \n",
            "2022-03-28  26.120891  24.338769    0.044833  \n",
            "2022-03-29  26.688253  24.373084    0.041659  \n",
            "2022-03-30  27.007125  24.408853    0.042139  \n",
            "2022-03-31  27.258709  24.453245    0.043048  \n",
            "2022-04-01  27.284567  24.504482    0.038824  \n",
            "2022-04-04  27.347064  24.584150    0.039410  \n",
            "\n",
            "Available columns: Index(['Close', 'High', 'Low', 'Open', 'Volume', 'Return', 'MA10', 'MA50',\n",
            "       'Volatility'],\n",
            "      dtype='object')\n"
          ]
        }
      ]
    }
  ]
}