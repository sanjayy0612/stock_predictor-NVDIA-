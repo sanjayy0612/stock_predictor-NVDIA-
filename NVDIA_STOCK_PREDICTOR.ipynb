{
  "nbformat": 4,
  "nbformat_minor": 0,
  "metadata": {
    "colab": {
      "provenance": [],
      "authorship_tag": "ABX9TyP16hVvjO0XnweQNu3NDCgm",
      "include_colab_link": true
    },
    "kernelspec": {
      "name": "python3",
      "display_name": "Python 3"
    },
    "language_info": {
      "name": "python"
    }
  },
  "cells": [
    {
      "cell_type": "markdown",
      "metadata": {
        "id": "view-in-github",
        "colab_type": "text"
      },
      "source": [
        "<a href=\"https://colab.research.google.com/github/sanjayy0612/stock_predictor-NVDIA-/blob/main/NVDIA_STOCK_PREDICTOR.ipynb\" target=\"_parent\"><img src=\"https://colab.research.google.com/assets/colab-badge.svg\" alt=\"Open In Colab\"/></a>"
      ]
    },
    {
      "cell_type": "code",
      "execution_count": null,
      "metadata": {
        "colab": {
          "base_uri": "https://localhost:8080/"
        },
        "id": "QBL14Ey-toA2",
        "outputId": "79637b0d-4cdd-4a59-fd73-4c9078e073f0"
      },
      "outputs": [
        {
          "output_type": "stream",
          "name": "stdout",
          "text": [
            "Requirement already satisfied: yfinance in /usr/local/lib/python3.11/dist-packages (0.2.65)\n",
            "Requirement already satisfied: pandas>=1.3.0 in /usr/local/lib/python3.11/dist-packages (from yfinance) (2.2.2)\n",
            "Requirement already satisfied: numpy>=1.16.5 in /usr/local/lib/python3.11/dist-packages (from yfinance) (2.0.2)\n",
            "Requirement already satisfied: requests>=2.31 in /usr/local/lib/python3.11/dist-packages (from yfinance) (2.32.3)\n",
            "Requirement already satisfied: multitasking>=0.0.7 in /usr/local/lib/python3.11/dist-packages (from yfinance) (0.0.11)\n",
            "Requirement already satisfied: platformdirs>=2.0.0 in /usr/local/lib/python3.11/dist-packages (from yfinance) (4.3.8)\n",
            "Requirement already satisfied: pytz>=2022.5 in /usr/local/lib/python3.11/dist-packages (from yfinance) (2025.2)\n",
            "Requirement already satisfied: frozendict>=2.3.4 in /usr/local/lib/python3.11/dist-packages (from yfinance) (2.4.6)\n",
            "Requirement already satisfied: peewee>=3.16.2 in /usr/local/lib/python3.11/dist-packages (from yfinance) (3.18.2)\n",
            "Requirement already satisfied: beautifulsoup4>=4.11.1 in /usr/local/lib/python3.11/dist-packages (from yfinance) (4.13.4)\n",
            "Requirement already satisfied: curl_cffi>=0.7 in /usr/local/lib/python3.11/dist-packages (from yfinance) (0.12.0)\n",
            "Requirement already satisfied: protobuf>=3.19.0 in /usr/local/lib/python3.11/dist-packages (from yfinance) (5.29.5)\n",
            "Requirement already satisfied: websockets>=13.0 in /usr/local/lib/python3.11/dist-packages (from yfinance) (15.0.1)\n",
            "Requirement already satisfied: soupsieve>1.2 in /usr/local/lib/python3.11/dist-packages (from beautifulsoup4>=4.11.1->yfinance) (2.7)\n",
            "Requirement already satisfied: typing-extensions>=4.0.0 in /usr/local/lib/python3.11/dist-packages (from beautifulsoup4>=4.11.1->yfinance) (4.14.1)\n",
            "Requirement already satisfied: cffi>=1.12.0 in /usr/local/lib/python3.11/dist-packages (from curl_cffi>=0.7->yfinance) (1.17.1)\n",
            "Requirement already satisfied: certifi>=2024.2.2 in /usr/local/lib/python3.11/dist-packages (from curl_cffi>=0.7->yfinance) (2025.7.14)\n",
            "Requirement already satisfied: python-dateutil>=2.8.2 in /usr/local/lib/python3.11/dist-packages (from pandas>=1.3.0->yfinance) (2.9.0.post0)\n",
            "Requirement already satisfied: tzdata>=2022.7 in /usr/local/lib/python3.11/dist-packages (from pandas>=1.3.0->yfinance) (2025.2)\n",
            "Requirement already satisfied: charset-normalizer<4,>=2 in /usr/local/lib/python3.11/dist-packages (from requests>=2.31->yfinance) (3.4.2)\n",
            "Requirement already satisfied: idna<4,>=2.5 in /usr/local/lib/python3.11/dist-packages (from requests>=2.31->yfinance) (3.10)\n",
            "Requirement already satisfied: urllib3<3,>=1.21.1 in /usr/local/lib/python3.11/dist-packages (from requests>=2.31->yfinance) (2.4.0)\n",
            "Requirement already satisfied: pycparser in /usr/local/lib/python3.11/dist-packages (from cffi>=1.12.0->curl_cffi>=0.7->yfinance) (2.22)\n",
            "Requirement already satisfied: six>=1.5 in /usr/local/lib/python3.11/dist-packages (from python-dateutil>=2.8.2->pandas>=1.3.0->yfinance) (1.17.0)\n"
          ]
        }
      ],
      "source": [
        "!pip install yfinance\n"
      ]
    },
    {
      "cell_type": "code",
      "source": [
        "import yfinance as yf\n",
        "\n",
        "# Download NVIDIA stock data\n",
        "nvda = yf.download(\"NVDA\", start=\"2022-01-01\", end=\"2025-07-18\", interval='1d')\n",
        "\n",
        "# Save to CSV\n",
        "nvda.to_csv(\"nvda_stock_data.csv\")\n",
        "\n",
        "print(nvda.head())\n",
        "print()\n",
        "print()\n",
        "print(nvda.columns)\n"
      ],
      "metadata": {
        "colab": {
          "base_uri": "https://localhost:8080/"
        },
        "id": "qunYbx1-t5gT",
        "outputId": "c45a4e71-5a96-4bf4-ac4d-4c1b6fe1e5c7"
      },
      "execution_count": null,
      "outputs": [
        {
          "output_type": "stream",
          "name": "stderr",
          "text": [
            "/tmp/ipython-input-3-1958011156.py:4: FutureWarning: YF.download() has changed argument auto_adjust default to True\n",
            "  nvda = yf.download(\"NVDA\", start=\"2022-01-01\", end=\"2025-07-18\", interval='1d')\n",
            "\r[*********************100%***********************]  1 of 1 completed"
          ]
        },
        {
          "output_type": "stream",
          "name": "stdout",
          "text": [
            "Price           Close       High        Low       Open     Volume\n",
            "Ticker           NVDA       NVDA       NVDA       NVDA       NVDA\n",
            "Date                                                             \n",
            "2022-01-03  30.066132  30.655057  29.730743  29.760689  391547000\n",
            "2022-01-04  29.236649  30.412502  28.297363  30.221850  527154000\n",
            "2022-01-05  27.553720  29.362420  27.482851  28.896270  498064000\n",
            "2022-01-06  28.126671  28.386197  27.015699  27.589651  454186000\n",
            "2022-01-07  27.197371  28.370231  27.007716  28.089743  409939000\n",
            "\n",
            "\n",
            "MultiIndex([( 'Close', 'NVDA'),\n",
            "            (  'High', 'NVDA'),\n",
            "            (   'Low', 'NVDA'),\n",
            "            (  'Open', 'NVDA'),\n",
            "            ('Volume', 'NVDA')],\n",
            "           names=['Price', 'Ticker'])\n"
          ]
        },
        {
          "output_type": "stream",
          "name": "stderr",
          "text": [
            "\n"
          ]
        }
      ]
    },
    {
      "cell_type": "code",
      "source": [
        "# Simple exploration\n",
        "print(\"Average daily price change:\", nvda['Close'].pct_change().mean())\n",
        "print(\"Most volatile day:\", nvda['High'] - nvda['Low'])\n",
        "print(\"Highest volume day:\", nvda['Volume'].max())\n"
      ],
      "metadata": {
        "colab": {
          "base_uri": "https://localhost:8080/"
        },
        "id": "Nf_9l-1511BP",
        "outputId": "df59d952-e99a-4a79-f5ee-9d7398dd17e2"
      },
      "execution_count": null,
      "outputs": [
        {
          "output_type": "stream",
          "name": "stdout",
          "text": [
            "Average daily price change: Ticker\n",
            "NVDA    0.002593\n",
            "dtype: float64\n",
            "Most volatile day: Ticker          NVDA\n",
            "Date                \n",
            "2022-01-03  0.924314\n",
            "2022-01-04  2.115140\n",
            "2022-01-05  1.879570\n",
            "2022-01-06  1.370498\n",
            "2022-01-07  1.362515\n",
            "...              ...\n",
            "2025-07-11  4.419998\n",
            "2025-07-14  3.470001\n",
            "2025-07-15  3.199997\n",
            "2025-07-16  2.850006\n",
            "2025-07-17  3.330002\n",
            "\n",
            "[887 rows x 1 columns]\n",
            "Highest volume day: Ticker\n",
            "NVDA    1543911000\n",
            "dtype: int64\n"
          ]
        }
      ]
    }
  ]
}